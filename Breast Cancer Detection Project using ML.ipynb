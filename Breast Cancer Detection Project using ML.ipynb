{
 "cells": [
  {
   "cell_type": "code",
   "execution_count": null,
   "id": "c5106ec5",
   "metadata": {},
   "outputs": [],
   "source": [
    "#Importing Libraries\n",
    "import numpy as np\n",
    "import matplotlib.pyplot as plt\n",
    "import pandas as pd\n",
    "import seaborn as sns"
   ]
  },
  {
   "cell_type": "code",
   "execution_count": null,
   "id": "940cadba",
   "metadata": {},
   "outputs": [],
   "source": [
    "#Reading Data\n",
    "df = pd.read_csv('cancer.csv')"
   ]
  },
  {
   "cell_type": "code",
   "execution_count": null,
   "id": "e7550b22",
   "metadata": {},
   "outputs": [],
   "source": [
    "df.head()"
   ]
  },
  {
   "cell_type": "code",
   "execution_count": null,
   "id": "766c964b",
   "metadata": {},
   "outputs": [],
   "source": [
    "df.shape"
   ]
  },
  {
   "cell_type": "code",
   "execution_count": null,
   "id": "bda0a252",
   "metadata": {},
   "outputs": [],
   "source": [
    "df.info()"
   ]
  },
  {
   "cell_type": "code",
   "execution_count": null,
   "id": "78a3a74a",
   "metadata": {},
   "outputs": [],
   "source": [
    "# Return all the columns with null values count\n",
    "df.isna().sum()"
   ]
  },
  {
   "cell_type": "code",
   "execution_count": null,
   "id": "9a4ff7bd",
   "metadata": {},
   "outputs": [],
   "source": [
    "# Remove the column\n",
    "df = df.dropna(axis = 1)"
   ]
  },
  {
   "cell_type": "code",
   "execution_count": null,
   "id": "7702b045",
   "metadata": {},
   "outputs": [],
   "source": [
    "#Describe the dataset\n",
    "df.describe()"
   ]
  },
  {
   "cell_type": "code",
   "execution_count": null,
   "id": "c1c741ae",
   "metadata": {},
   "outputs": [],
   "source": [
    "# Get the count of malignant<M> and Benign<B> cells\n",
    "df['diagnosis'].value_counts()"
   ]
  },
  {
   "cell_type": "code",
   "execution_count": null,
   "id": "14d0da92",
   "metadata": {},
   "outputs": [],
   "source": [
    "sns.countplot(df['diagnosis'],label=\"count\")"
   ]
  },
  {
   "cell_type": "code",
   "execution_count": null,
   "id": "a0986164",
   "metadata": {},
   "outputs": [],
   "source": [
    "#Label encoding\n",
    "from sklearn.preprocessing import LabelEncoder\n",
    "labelencoder_Y = LabelEncoder()\n",
    "df.iloc[:,1]=labelencoder_Y.fit_transform(df.iloc[:,1].values)"
   ]
  },
  {
   "cell_type": "code",
   "execution_count": null,
   "id": "2ef76e8b",
   "metadata": {},
   "outputs": [],
   "source": [
    "df.head()"
   ]
  },
  {
   "cell_type": "code",
   "execution_count": null,
   "id": "db81aeae",
   "metadata": {},
   "outputs": [],
   "source": [
    "sns.pairplot(df.iloc[:,1:5], hue=\"diagnosis\")"
   ]
  },
  {
   "cell_type": "code",
   "execution_count": null,
   "id": "1f2c45f9",
   "metadata": {},
   "outputs": [],
   "source": [
    "#get the correlation\n",
    "df.iloc[:,1:32].corr().head()"
   ]
  },
  {
   "cell_type": "code",
   "execution_count": null,
   "id": "3070650b",
   "metadata": {},
   "outputs": [],
   "source": [
    "#visualize the correlation\n",
    "plt.figure(figsize=(10,10))\n",
    "sns.heatmap(df.iloc[:,1:10].corr(), annot=True, fmt=\".0%\")"
   ]
  },
  {
   "cell_type": "code",
   "execution_count": null,
   "id": "9a0a830d",
   "metadata": {},
   "outputs": [],
   "source": [
    "#split the dataset\n",
    "X=df.iloc[:,2:31].values\n",
    "Y=df.iloc[:,1].values"
   ]
  },
  {
   "cell_type": "code",
   "execution_count": null,
   "id": "aeafb7f8",
   "metadata": {},
   "outputs": [],
   "source": [
    "#splitting the data into trainning and test dataset\n",
    "from sklearn.model_selection import train_test_split\n",
    "X_train, X_test, Y_train, Y_test = train_test_split(X,Y,test_size=0.20, random_state=0)"
   ]
  },
  {
   "cell_type": "code",
   "execution_count": null,
   "id": "296b948d",
   "metadata": {},
   "outputs": [],
   "source": [
    "# feature scaling\n",
    "from sklearn.preprocessing import StandardScaler\n",
    "X_train=StandardScaler().fit_transform(X_train)\n",
    "X_train=StandardScaler().fit_transform(X_test)"
   ]
  },
  {
   "cell_type": "code",
   "execution_count": null,
   "id": "38881b8b",
   "metadata": {},
   "outputs": [],
   "source": [
    "#models Algorithms\n",
    "\n",
    "def models(X_train, Y_train):\n",
    "    #Logistic regression\n",
    "    from sklearn.linear_model import LogisticRegression\n",
    "    log=LogisticRegression(random_state=0)\n",
    "    log.fit(X_train, Y_train)\n",
    "    \n",
    "    #Decision Tree\n",
    "    from sklearn.tree import DecisionTreeClassifier\n",
    "    tree=DecisionTreeClassifier(random_state=0, criterion=\"entropy\")\n",
    "    tree.fit(X_train, Y_train)\n",
    "    \n",
    "    #Random Forest\n",
    "    from sklearn.ensemble import RandomForestClassifier\n",
    "    forest=RandomForestClassifier(random_state=0,criterion=\"entropy\", n_estimators=10)\n",
    "    forest=fit(X_train, Y_train)\n",
    "    \n",
    "    print('[0]logistic regression accuracy: ', log.score(X_train,Y_train))\n",
    "    print('[1]Decison tree accuracy: ',tree.score(X_train,Y_train))\n",
    "    print('[2]Random forest accuracy: ',forest.score(X_train, Y_train))\n",
    "    \n",
    "    return log,tree,forest"
   ]
  },
  {
   "cell_type": "code",
   "execution_count": null,
   "id": "a4f4a689",
   "metadata": {},
   "outputs": [],
   "source": [
    "model = models(X_train,Y_train)"
   ]
  },
  {
   "cell_type": "code",
   "execution_count": null,
   "id": "1682a4f8",
   "metadata": {},
   "outputs": [],
   "source": [
    "#testing the model/result\n",
    "\n",
    "from sklearn.metrics import accuracy_score\n",
    "from sklearn.metrics import classification_report\n",
    "\n",
    "for i in range(len(model)):\n",
    "    print(\"Model\",i)\n",
    "    print(classification_report(Y_test,model[i].predict(X_test)))\n",
    "    print('Accuracy :', accuracy_score(Y_test,model[i].predict(X_test)))"
   ]
  },
  {
   "cell_type": "code",
   "execution_count": null,
   "id": "7c181344",
   "metadata": {},
   "outputs": [],
   "source": [
    "#prediction of random-forest\n",
    "pred = model[2].predict(X_test)\n",
    "print('Predict values :')\n",
    "print(pred)\n",
    "print('Actual values : ')\n",
    "print(Y_text)"
   ]
  },
  {
   "cell_type": "code",
   "execution_count": null,
   "id": "59846c42",
   "metadata": {},
   "outputs": [],
   "source": [
    "form joblib import dump\n",
    "dump(model[2], \"Brest_Cancer_Prediction.joblib\")"
   ]
  },
  {
   "cell_type": "code",
   "execution_count": null,
   "id": "3bcad026",
   "metadata": {},
   "outputs": [],
   "source": []
  },
  {
   "cell_type": "code",
   "execution_count": null,
   "id": "0b366272",
   "metadata": {},
   "outputs": [],
   "source": []
  },
  {
   "cell_type": "code",
   "execution_count": null,
   "id": "f156d049",
   "metadata": {},
   "outputs": [],
   "source": []
  },
  {
   "cell_type": "code",
   "execution_count": null,
   "id": "6974d268",
   "metadata": {},
   "outputs": [],
   "source": []
  },
  {
   "cell_type": "code",
   "execution_count": null,
   "id": "4de5c6da",
   "metadata": {},
   "outputs": [],
   "source": []
  }
 ],
 "metadata": {
  "kernelspec": {
   "display_name": "Python 3 (ipykernel)",
   "language": "python",
   "name": "python3"
  },
  "language_info": {
   "codemirror_mode": {
    "name": "ipython",
    "version": 3
   },
   "file_extension": ".py",
   "mimetype": "text/x-python",
   "name": "python",
   "nbconvert_exporter": "python",
   "pygments_lexer": "ipython3",
   "version": "3.9.12"
  }
 },
 "nbformat": 4,
 "nbformat_minor": 5
}
